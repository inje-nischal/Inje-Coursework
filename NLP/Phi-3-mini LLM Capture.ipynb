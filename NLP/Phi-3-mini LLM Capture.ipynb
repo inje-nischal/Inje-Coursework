{
 "cells": [
  {
   "cell_type": "markdown",
   "id": "bd290cf0-2b51-4c07-8404-8d53a858e35b",
   "metadata": {},
   "source": [
    "# Creative Text Generation with a Large Language Model\n",
    "\n",
    "In this assignment, we will use `microsoft/Phi-3-mini-4k-instruct` LLM model to generate story based on user prompt. It covers the process of setting up the environment, loading a pre-trained model and tokenizer, and using a high-level pipeline for efficient inference.\n",
    "\n",
    "## Environment Setup\n",
    "\n",
    "### Install required libraries\n"
   ]
  },
  {
   "cell_type": "code",
   "execution_count": null,
   "id": "dc8a40e0-f673-4721-95aa-6455f48cfaac",
   "metadata": {},
   "outputs": [],
   "source": [
    "!pip install transformers>=4.40.1 accelerate>=0.27.2"
   ]
  },
  {
   "cell_type": "markdown",
   "id": "1bc035e9-b1ab-4851-b642-73a5bdce1e0c",
   "metadata": {},
   "source": [
    "### Change runtime type to use GPU"
   ]
  },
  {
   "cell_type": "markdown",
   "id": "c5dedacd-8189-44cc-90fb-8f18e2d1bc49",
   "metadata": {},
   "source": [
    "### Model and Tokenization Setup\n",
    "\n",
    "Load pretrained `microsoft/Phi-3-mini-4k-instruct` model and it's corresponding tokenizer."
   ]
  },
  {
   "cell_type": "code",
   "execution_count": 1,
   "id": "f176f10d-98df-4186-93aa-2bd24cc1351e",
   "metadata": {},
   "outputs": [
    {
     "name": "stderr",
     "output_type": "stream",
     "text": [
      "`torch_dtype` is deprecated! Use `dtype` instead!\n"
     ]
    },
    {
     "data": {
      "application/vnd.jupyter.widget-view+json": {
       "model_id": "3f7051bddf114eea88a37c4d33c4c213",
       "version_major": 2,
       "version_minor": 0
      },
      "text/plain": [
       "Loading checkpoint shards:   0%|          | 0/2 [00:00<?, ?it/s]"
      ]
     },
     "metadata": {},
     "output_type": "display_data"
    }
   ],
   "source": [
    "from transformers import AutoModelForCausalLM, AutoTokenizer\n",
    "\n",
    "model = AutoModelForCausalLM.from_pretrained(\n",
    "    \"microsoft/Phi-3-mini-4k-instruct\",\n",
    "    device_map=\"cuda\",\n",
    "    torch_dtype=\"auto\",\n",
    "    trust_remote_code=False,\n",
    ")\n",
    "\n",
    "tokenizer = AutoTokenizer.from_pretrained(\"microsoft/Phi-3-mini-4k-instruct\")\n"
   ]
  },
  {
   "cell_type": "markdown",
   "id": "44930aa3-59e8-4440-a32a-d43f41725037",
   "metadata": {},
   "source": [
    "### Generating a pipeline\n",
    "\n",
    "Define a pipeline utility which handle process of tokenizing the input, to decoding the output."
   ]
  },
  {
   "cell_type": "code",
   "execution_count": 4,
   "id": "4a48ebf2-ce3b-4546-8754-b3e007538ab5",
   "metadata": {},
   "outputs": [
    {
     "name": "stderr",
     "output_type": "stream",
     "text": [
      "Device set to use cuda\n"
     ]
    }
   ],
   "source": [
    "from transformers import pipeline\n",
    "\n",
    "generator = pipeline(\n",
    "    \"text-generation\",\n",
    "    model=model,\n",
    "    tokenizer=tokenizer,\n",
    "    return_full_text=False,\n",
    "    max_new_tokens=500,\n",
    "    do_sample=False\n",
    ")"
   ]
  },
  {
   "cell_type": "markdown",
   "id": "d9d9b967-2477-4a7d-b5ef-37a6a29b6f6f",
   "metadata": {},
   "source": [
    "### Define the prompt and execute."
   ]
  },
  {
   "cell_type": "code",
   "execution_count": 5,
   "id": "5a985af3-e5f0-4680-a14e-b16a65a3c25d",
   "metadata": {},
   "outputs": [],
   "source": [
    "messages = [\n",
    "    {\n",
    "        \"role\": \"user\",\n",
    "        \"content\": \"Write a very short story on 'My first Hello World program.\"\n",
    "    }\n",
    "]\n",
    "\n",
    "output = generator(messages)\n"
   ]
  },
  {
   "cell_type": "code",
   "execution_count": 6,
   "id": "ed22e17f-4984-44a3-bdd7-fd77c34b2c0c",
   "metadata": {},
   "outputs": [
    {
     "data": {
      "text/plain": [
       "' Once upon a time, in the land of Codeville, there was a young coder named Alex. Alex had just begun their journey into the world of programming and was eager to learn the first step. They had heard of a magical phrase that every programmer must utter before embarking on any coding adventure. This phrase was \"Hello, World!\"\\n\\nOne sunny afternoon, Alex sat down at their computer, a shiny new machine that hummed with potential. They opened their trusty text editor, a place where they could weave their code into existence. With a deep breath, Alex typed out the first line of code:\\n\\n```python\\nprint(\"Hello, World!\")\\n```\\n\\nThe code was simple, yet it held the power to bridge the gap between Alex and the vast world of programming. They saved the file with the name \"hello_world.py\" and ran it. A small window popped up, and there it was, the first message Alex had ever seen on their screen:\\n\\n```\\nHello, World!\\n```\\n\\nA smile spread across Alex\\'s face. They had done it! They had successfully written and executed their first program. The \"Hello, World!\" program was a rite of passage for every programmer, a symbol of their journey into the world of coding.\\n\\nFrom that day forward, Alex continued to learn and grow as a programmer. They tackled more complex projects, but they never forgot the magic of their first \"Hello, World!\" program. It was a reminder that every great journey begins with a single step, and that even the simplest of programs can hold the power to change the world.'"
      ]
     },
     "execution_count": 6,
     "metadata": {},
     "output_type": "execute_result"
    }
   ],
   "source": [
    "output[0][\"generated_text\"]"
   ]
  },
  {
   "cell_type": "markdown",
   "id": "c34460c4-829e-44f4-8843-a25970e8f054",
   "metadata": {},
   "source": [
    "### Trying only string"
   ]
  },
  {
   "cell_type": "code",
   "execution_count": 7,
   "id": "9535665e-f10b-47e1-801c-169a8baf0f7a",
   "metadata": {},
   "outputs": [],
   "source": [
    "output = generator(\"Write a very short story on 'My first Hello World program.\")"
   ]
  },
  {
   "cell_type": "code",
   "execution_count": 8,
   "id": "36651cf5-c3c4-434c-889e-4a3d449bff94",
   "metadata": {},
   "outputs": [
    {
     "data": {
      "text/plain": [
       "[{'generated_text': '\\n\\nMy first Hello World program was a simple yet significant milestone in my journey as a budding programmer. It was a sunny afternoon, and I had just started learning Python, a language known for its simplicity and readability. The concept of a \"Hello World\" program was introduced to me as a traditional first step in the world of coding. It was a small program that, when executed, would simply print the words \"Hello, World!\" on the screen.\\n\\nI was excited to embark on this new adventure, and I quickly set up my development environment. I opened my text editor, typed in the code, and saved it as \"hello_world.py.\" The code looked like this:\\n\\n```python\\nprint(\"Hello, World!\")\\n```\\n\\nWith a sense of anticipation, I ran the program using the Python interpreter. As the program executed, I watched the words \"Hello, World!\" appear on my screen. A wave of accomplishment washed over me. I had just written my first program, and it worked!\\n\\nThis small victory was a turning point for me. It was a reminder that learning to code was not just about memorizing syntax and rules; it was about problem-solving and creativity. The \"Hello World\" program was a stepping stone that led me to explore more complex concepts and projects.\\n\\nAs I continued my programming journey, I often revisited the \"Hello World\" program. It served as a reminder of where I started and how far I had come. It was a testament to the power of perseverance and the joy of learning.\\n\\nIn the end, my first \"Hello World\" program was more than just a simple program. It was a symbol of my passion for programming and a reminder of the endless possibilities that lay ahead. It was the beginning of a lifelong journey filled with challenges, discoveries, and the joy of creating something from scratch.'}]"
      ]
     },
     "execution_count": 8,
     "metadata": {},
     "output_type": "execute_result"
    }
   ],
   "source": [
    "output"
   ]
  },
  {
   "cell_type": "code",
   "execution_count": null,
   "id": "0ec6a8f1-fad4-4ca8-ac41-7d5542a3f73b",
   "metadata": {},
   "outputs": [],
   "source": []
  }
 ],
 "metadata": {
  "kernelspec": {
   "display_name": "Python (Inje_Coursework)",
   "language": "python",
   "name": "inje_coursework"
  },
  "language_info": {
   "codemirror_mode": {
    "name": "ipython",
    "version": 3
   },
   "file_extension": ".py",
   "mimetype": "text/x-python",
   "name": "python",
   "nbconvert_exporter": "python",
   "pygments_lexer": "ipython3",
   "version": "3.12.3"
  }
 },
 "nbformat": 4,
 "nbformat_minor": 5
}
